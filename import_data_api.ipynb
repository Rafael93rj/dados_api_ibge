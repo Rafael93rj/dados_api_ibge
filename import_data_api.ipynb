{
 "cells": [
  {
   "cell_type": "markdown",
   "source": [
    "# Extração via API IBGE"
   ],
   "metadata": {
    "collapsed": false
   },
   "id": "66dca3dcd6414874"
  },
  {
   "cell_type": "markdown",
   "source": [
    "Descrição: Evolutivo de registros com o nome \"Enzo\"\n",
    "Fonte: IBGE"
   ],
   "metadata": {
    "collapsed": false
   },
   "id": "cb51c0677433433a"
  },
  {
   "cell_type": "code",
   "outputs": [],
   "source": [
    "import pandas as pd\n",
    "import requests"
   ],
   "metadata": {
    "collapsed": false,
    "ExecuteTime": {
     "end_time": "2024-08-11T22:44:32.970852400Z",
     "start_time": "2024-08-11T22:44:32.933287500Z"
    }
   },
   "id": "60478a4ea8801cde",
   "execution_count": 93
  },
  {
   "cell_type": "code",
   "outputs": [],
   "source": [
    "url = 'https://servicodados.ibge.gov.br/api/v2/censos/nomes/enzo?sexo=M'\n",
    "\n",
    "response = requests.request('GET', url = url)"
   ],
   "metadata": {
    "collapsed": false,
    "ExecuteTime": {
     "end_time": "2024-08-11T22:44:33.239477100Z",
     "start_time": "2024-08-11T22:44:32.951812Z"
    }
   },
   "id": "bdbaa5fba14562cd",
   "execution_count": 94
  },
  {
   "cell_type": "code",
   "outputs": [
    {
     "data": {
      "text/plain": "[{'periodo': '1930[', 'frequencia': 21},\n {'periodo': '[1930,1940[', 'frequencia': 43},\n {'periodo': '[1940,1950[', 'frequencia': 63},\n {'periodo': '[1950,1960[', 'frequencia': 139},\n {'periodo': '[1960,1970[', 'frequencia': 188},\n {'periodo': '[1970,1980[', 'frequencia': 270},\n {'periodo': '[1980,1990[', 'frequencia': 469},\n {'periodo': '[1990,2000[', 'frequencia': 2073},\n {'periodo': '[2000,2010[', 'frequencia': 43584}]"
     },
     "execution_count": 95,
     "metadata": {},
     "output_type": "execute_result"
    }
   ],
   "source": [
    "data_json = response.json()[0]['res']\n",
    "data_json"
   ],
   "metadata": {
    "collapsed": false,
    "ExecuteTime": {
     "end_time": "2024-08-11T22:44:33.248856900Z",
     "start_time": "2024-08-11T22:44:33.241473700Z"
    }
   },
   "id": "4cd033f0a9b97ef7",
   "execution_count": 95
  },
  {
   "cell_type": "code",
   "outputs": [
    {
     "data": {
      "text/plain": "       periodo  frequencia\n0        1930[          21\n1  [1930,1940[          43\n2  [1940,1950[          63\n3  [1950,1960[         139\n4  [1960,1970[         188\n5  [1970,1980[         270\n6  [1980,1990[         469\n7  [1990,2000[        2073\n8  [2000,2010[       43584",
      "text/html": "<div>\n<style scoped>\n    .dataframe tbody tr th:only-of-type {\n        vertical-align: middle;\n    }\n\n    .dataframe tbody tr th {\n        vertical-align: top;\n    }\n\n    .dataframe thead th {\n        text-align: right;\n    }\n</style>\n<table border=\"1\" class=\"dataframe\">\n  <thead>\n    <tr style=\"text-align: right;\">\n      <th></th>\n      <th>periodo</th>\n      <th>frequencia</th>\n    </tr>\n  </thead>\n  <tbody>\n    <tr>\n      <th>0</th>\n      <td>1930[</td>\n      <td>21</td>\n    </tr>\n    <tr>\n      <th>1</th>\n      <td>[1930,1940[</td>\n      <td>43</td>\n    </tr>\n    <tr>\n      <th>2</th>\n      <td>[1940,1950[</td>\n      <td>63</td>\n    </tr>\n    <tr>\n      <th>3</th>\n      <td>[1950,1960[</td>\n      <td>139</td>\n    </tr>\n    <tr>\n      <th>4</th>\n      <td>[1960,1970[</td>\n      <td>188</td>\n    </tr>\n    <tr>\n      <th>5</th>\n      <td>[1970,1980[</td>\n      <td>270</td>\n    </tr>\n    <tr>\n      <th>6</th>\n      <td>[1980,1990[</td>\n      <td>469</td>\n    </tr>\n    <tr>\n      <th>7</th>\n      <td>[1990,2000[</td>\n      <td>2073</td>\n    </tr>\n    <tr>\n      <th>8</th>\n      <td>[2000,2010[</td>\n      <td>43584</td>\n    </tr>\n  </tbody>\n</table>\n</div>"
     },
     "execution_count": 96,
     "metadata": {},
     "output_type": "execute_result"
    }
   ],
   "source": [
    "enzo_df = pd.DataFrame(data_json)\n",
    "enzo_df"
   ],
   "metadata": {
    "collapsed": false,
    "ExecuteTime": {
     "end_time": "2024-08-11T22:44:33.266541Z",
     "start_time": "2024-08-11T22:44:33.250864800Z"
    }
   },
   "id": "a152e3de6c2877a4",
   "execution_count": 96
  },
  {
   "cell_type": "code",
   "outputs": [
    {
     "data": {
      "text/plain": "[Text(0.5, 0, ''), Text(0, 0.5, '')]"
     },
     "execution_count": 97,
     "metadata": {},
     "output_type": "execute_result"
    },
    {
     "data": {
      "text/plain": "<Figure size 640x480 with 1 Axes>",
      "image/png": "[encoded data removed]"
     },
     "metadata": {},
     "output_type": "display_data"
    }
   ],
   "source": [
    "import seaborn as sns\n",
    "from matplotlib import pyplot as plt\n",
    "\n",
    "grafico = sns.lineplot(data = enzo_df, x = 'periodo', y = 'frequencia')\n",
    "plt.xticks(rotation = 90)\n",
    "grafico.set(xlabel=None, ylabel=None)"
   ],
   "metadata": {
    "collapsed": false,
    "ExecuteTime": {
     "end_time": "2024-08-11T22:44:33.444480400Z",
     "start_time": "2024-08-11T22:44:33.260535500Z"
    }
   },
   "id": "c35052a3df7b7821",
   "execution_count": 97
  },
  {
   "cell_type": "code",
   "outputs": [
    {
     "data": {
      "text/plain": "       periodo  frequencia %_variacao var_abs\n0        1930[          21        NaN     NaN\n1  [1930,1940[          43       105%      22\n2  [1940,1950[          63        47%      20\n3  [1950,1960[         139       121%      76\n4  [1960,1970[         188        35%      49\n5  [1970,1980[         270        44%      82\n6  [1980,1990[         469        74%     199\n7  [1990,2000[        2073       342%    1604\n8  [2000,2010[       43584      2002%   41511",
      "text/html": "<div>\n<style scoped>\n    .dataframe tbody tr th:only-of-type {\n        vertical-align: middle;\n    }\n\n    .dataframe tbody tr th {\n        vertical-align: top;\n    }\n\n    .dataframe thead th {\n        text-align: right;\n    }\n</style>\n<table border=\"1\" class=\"dataframe\">\n  <thead>\n    <tr style=\"text-align: right;\">\n      <th></th>\n      <th>periodo</th>\n      <th>frequencia</th>\n      <th>%_variacao</th>\n      <th>var_abs</th>\n    </tr>\n  </thead>\n  <tbody>\n    <tr>\n      <th>0</th>\n      <td>1930[</td>\n      <td>21</td>\n      <td>NaN</td>\n      <td>NaN</td>\n    </tr>\n    <tr>\n      <th>1</th>\n      <td>[1930,1940[</td>\n      <td>43</td>\n      <td>105%</td>\n      <td>22</td>\n    </tr>\n    <tr>\n      <th>2</th>\n      <td>[1940,1950[</td>\n      <td>63</td>\n      <td>47%</td>\n      <td>20</td>\n    </tr>\n    <tr>\n      <th>3</th>\n      <td>[1950,1960[</td>\n      <td>139</td>\n      <td>121%</td>\n      <td>76</td>\n    </tr>\n    <tr>\n      <th>4</th>\n      <td>[1960,1970[</td>\n      <td>188</td>\n      <td>35%</td>\n      <td>49</td>\n    </tr>\n    <tr>\n      <th>5</th>\n      <td>[1970,1980[</td>\n      <td>270</td>\n      <td>44%</td>\n      <td>82</td>\n    </tr>\n    <tr>\n      <th>6</th>\n      <td>[1980,1990[</td>\n      <td>469</td>\n      <td>74%</td>\n      <td>199</td>\n    </tr>\n    <tr>\n      <th>7</th>\n      <td>[1990,2000[</td>\n      <td>2073</td>\n      <td>342%</td>\n      <td>1604</td>\n    </tr>\n    <tr>\n      <th>8</th>\n      <td>[2000,2010[</td>\n      <td>43584</td>\n      <td>2002%</td>\n      <td>41511</td>\n    </tr>\n  </tbody>\n</table>\n</div>"
     },
     "execution_count": 98,
     "metadata": {},
     "output_type": "execute_result"
    }
   ],
   "source": [
    "enzo_df['%_variacao'] = ((enzo_df['frequencia'] / enzo_df['frequencia'].shift(1) - 1) * 100).apply(lambda x: f'{x:.0f}%' if pd.notnull(x) else x)\n",
    "\n",
    "enzo_df['var_abs'] = (enzo_df['frequencia'] - enzo_df['frequencia'].shift(1)).apply(lambda x: f'{x:.0f}' if pd.notnull(x) else x)\n",
    "enzo_df"
   ],
   "metadata": {
    "collapsed": false,
    "ExecuteTime": {
     "end_time": "2024-08-11T22:44:33.444480400Z",
     "start_time": "2024-08-11T22:44:33.415644900Z"
    }
   },
   "id": "383e639a54d1e283",
   "execution_count": 98
  },
  {
   "cell_type": "code",
   "outputs": [],
   "source": [],
   "metadata": {
    "collapsed": false,
    "ExecuteTime": {
     "end_time": "2024-08-11T22:44:33.445477600Z",
     "start_time": "2024-08-11T22:44:33.423184800Z"
    }
   },
   "id": "e7b68561088ec9e7",
   "execution_count": 98
  }
 ],
 "metadata": {
  "kernelspec": {
   "display_name": "Python 3",
   "language": "python",
   "name": "python3"
  },
  "language_info": {
   "codemirror_mode": {
    "name": "ipython",
    "version": 2
   },
   "file_extension": ".py",
   "mimetype": "text/x-python",
   "name": "python",
   "nbconvert_exporter": "python",
   "pygments_lexer": "ipython2",
   "version": "2.7.6"
  }
 },
 "nbformat": 4,
 "nbformat_minor": 5
}
